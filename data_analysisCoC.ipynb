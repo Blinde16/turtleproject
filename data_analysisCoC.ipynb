{
 "cells": [
  {
   "cell_type": "code",
   "execution_count": 2,
   "metadata": {},
   "outputs": [],
   "source": [
    "import pandas as pd"
   ]
  },
  {
   "cell_type": "code",
   "execution_count": 3,
   "metadata": {},
   "outputs": [],
   "source": [
    "df = pd.read_csv(r'C:\\Users\\porte\\OneDrive\\INTEX\\Simplified_PIT_data.csv')"
   ]
  },
  {
   "cell_type": "code",
   "execution_count": 4,
   "metadata": {},
   "outputs": [
    {
     "data": {
      "text/plain": [
       "Index(['Unsheltered Homeless', 'Unsheltered Homeless - Under 18',\n",
       "       'Unsheltered Homeless - Age 18 to 24', 'Unsheltered Homeless - Over 24',\n",
       "       'Unsheltered Homeless - Female', 'Unsheltered Homeless - Male',\n",
       "       'Unsheltered Homeless - Transgender',\n",
       "       'Unsheltered Homeless - Gender that is not Singularly Female or Male',\n",
       "       'Unsheltered Homeless - Non-Hispanic/Non-Latin(o)(a)(x)',\n",
       "       'Unsheltered Homeless - Hispanic/Latin(o)(a)(x)',\n",
       "       'Unsheltered Homeless - White',\n",
       "       'Unsheltered Homeless - Black, African American, or African',\n",
       "       'Unsheltered Homeless - Asian or Asian American',\n",
       "       'Unsheltered Homeless - American Indian, Alaska Native, or Indigenous',\n",
       "       'Unsheltered Homeless - Native Hawaiian or Other Pacific Islander',\n",
       "       'Unsheltered Homeless - Multiple Races',\n",
       "       'Sheltered Total Homeless - Gender Questioning',\n",
       "       'Unsheltered Homeless - Gender Questioning'],\n",
       "      dtype='object')"
      ]
     },
     "execution_count": 4,
     "metadata": {},
     "output_type": "execute_result"
    }
   ],
   "source": [
    "# See unsheltered column names\n",
    "columnList = df.columns\n",
    "columnList[20:]"
   ]
  },
  {
   "cell_type": "code",
   "execution_count": 5,
   "metadata": {},
   "outputs": [],
   "source": [
    "# Convert all columns to numeric data for statistical analysis\n",
    "numeric_df = df.apply(pd.to_numeric, errors='coerce')\n"
   ]
  },
  {
   "cell_type": "code",
   "execution_count": 6,
   "metadata": {},
   "outputs": [
    {
     "data": {
      "text/html": [
       "<div>\n",
       "<style scoped>\n",
       "    .dataframe tbody tr th:only-of-type {\n",
       "        vertical-align: middle;\n",
       "    }\n",
       "\n",
       "    .dataframe tbody tr th {\n",
       "        vertical-align: top;\n",
       "    }\n",
       "\n",
       "    .dataframe thead th {\n",
       "        text-align: right;\n",
       "    }\n",
       "</style>\n",
       "<table border=\"1\" class=\"dataframe\">\n",
       "  <thead>\n",
       "    <tr style=\"text-align: right;\">\n",
       "      <th></th>\n",
       "      <th>CoC Number</th>\n",
       "      <th>CoC Name</th>\n",
       "      <th>Count Types</th>\n",
       "      <th>Year</th>\n",
       "      <th>Sheltered Total Homeless</th>\n",
       "      <th>Sheltered Total Homeless - Under 18</th>\n",
       "      <th>Sheltered Total Homeless - Age 18 to 24</th>\n",
       "      <th>Sheltered Total Homeless - Over 24</th>\n",
       "      <th>Sheltered Total Homeless - Female</th>\n",
       "      <th>Sheltered Total Homeless - Male</th>\n",
       "      <th>...</th>\n",
       "      <th>Unsheltered Homeless - Non-Hispanic/Non-Latin(o)(a)(x)</th>\n",
       "      <th>Unsheltered Homeless - Hispanic/Latin(o)(a)(x)</th>\n",
       "      <th>Unsheltered Homeless - White</th>\n",
       "      <th>Unsheltered Homeless - Black, African American, or African</th>\n",
       "      <th>Unsheltered Homeless - Asian or Asian American</th>\n",
       "      <th>Unsheltered Homeless - American Indian, Alaska Native, or Indigenous</th>\n",
       "      <th>Unsheltered Homeless - Native Hawaiian or Other Pacific Islander</th>\n",
       "      <th>Unsheltered Homeless - Multiple Races</th>\n",
       "      <th>Sheltered Total Homeless - Gender Questioning</th>\n",
       "      <th>Unsheltered Homeless - Gender Questioning</th>\n",
       "    </tr>\n",
       "  </thead>\n",
       "  <tbody>\n",
       "    <tr>\n",
       "      <th>count</th>\n",
       "      <td>0.0</td>\n",
       "      <td>0.0</td>\n",
       "      <td>0.0</td>\n",
       "      <td>2311.000000</td>\n",
       "      <td>2311.000000</td>\n",
       "      <td>2311.000000</td>\n",
       "      <td>2311.000000</td>\n",
       "      <td>2311.000000</td>\n",
       "      <td>2311.000000</td>\n",
       "      <td>2311.000000</td>\n",
       "      <td>...</td>\n",
       "      <td>2275.000000</td>\n",
       "      <td>2276.000000</td>\n",
       "      <td>2276.000000</td>\n",
       "      <td>2276.000000</td>\n",
       "      <td>2276.000000</td>\n",
       "      <td>2276.000000</td>\n",
       "      <td>2276.000000</td>\n",
       "      <td>2277.000000</td>\n",
       "      <td>386.000000</td>\n",
       "      <td>386.000000</td>\n",
       "    </tr>\n",
       "    <tr>\n",
       "      <th>mean</th>\n",
       "      <td>NaN</td>\n",
       "      <td>NaN</td>\n",
       "      <td>NaN</td>\n",
       "      <td>2019.501947</td>\n",
       "      <td>910.771960</td>\n",
       "      <td>244.853743</td>\n",
       "      <td>74.235396</td>\n",
       "      <td>591.682821</td>\n",
       "      <td>401.865859</td>\n",
       "      <td>504.316313</td>\n",
       "      <td>...</td>\n",
       "      <td>370.373187</td>\n",
       "      <td>113.228032</td>\n",
       "      <td>276.792619</td>\n",
       "      <td>132.042619</td>\n",
       "      <td>7.940246</td>\n",
       "      <td>21.739895</td>\n",
       "      <td>10.456063</td>\n",
       "      <td>35.241985</td>\n",
       "      <td>0.341969</td>\n",
       "      <td>1.235751</td>\n",
       "    </tr>\n",
       "    <tr>\n",
       "      <th>std</th>\n",
       "      <td>NaN</td>\n",
       "      <td>NaN</td>\n",
       "      <td>NaN</td>\n",
       "      <td>1.708869</td>\n",
       "      <td>3736.543472</td>\n",
       "      <td>1214.650357</td>\n",
       "      <td>355.573728</td>\n",
       "      <td>2181.750970</td>\n",
       "      <td>1773.010770</td>\n",
       "      <td>1948.181359</td>\n",
       "      <td>...</td>\n",
       "      <td>1366.502614</td>\n",
       "      <td>803.829135</td>\n",
       "      <td>1032.026070</td>\n",
       "      <td>892.579640</td>\n",
       "      <td>48.524116</td>\n",
       "      <td>93.067604</td>\n",
       "      <td>69.598796</td>\n",
       "      <td>155.719978</td>\n",
       "      <td>1.377802</td>\n",
       "      <td>8.609199</td>\n",
       "    </tr>\n",
       "    <tr>\n",
       "      <th>min</th>\n",
       "      <td>NaN</td>\n",
       "      <td>NaN</td>\n",
       "      <td>NaN</td>\n",
       "      <td>2017.000000</td>\n",
       "      <td>1.000000</td>\n",
       "      <td>0.000000</td>\n",
       "      <td>0.000000</td>\n",
       "      <td>1.000000</td>\n",
       "      <td>0.000000</td>\n",
       "      <td>0.000000</td>\n",
       "      <td>...</td>\n",
       "      <td>0.000000</td>\n",
       "      <td>0.000000</td>\n",
       "      <td>0.000000</td>\n",
       "      <td>0.000000</td>\n",
       "      <td>0.000000</td>\n",
       "      <td>0.000000</td>\n",
       "      <td>0.000000</td>\n",
       "      <td>0.000000</td>\n",
       "      <td>0.000000</td>\n",
       "      <td>0.000000</td>\n",
       "    </tr>\n",
       "    <tr>\n",
       "      <th>25%</th>\n",
       "      <td>NaN</td>\n",
       "      <td>NaN</td>\n",
       "      <td>NaN</td>\n",
       "      <td>2018.000000</td>\n",
       "      <td>192.500000</td>\n",
       "      <td>44.000000</td>\n",
       "      <td>13.000000</td>\n",
       "      <td>129.000000</td>\n",
       "      <td>85.000000</td>\n",
       "      <td>103.000000</td>\n",
       "      <td>...</td>\n",
       "      <td>23.000000</td>\n",
       "      <td>1.000000</td>\n",
       "      <td>15.000000</td>\n",
       "      <td>3.000000</td>\n",
       "      <td>0.000000</td>\n",
       "      <td>0.000000</td>\n",
       "      <td>0.000000</td>\n",
       "      <td>0.000000</td>\n",
       "      <td>0.000000</td>\n",
       "      <td>0.000000</td>\n",
       "    </tr>\n",
       "    <tr>\n",
       "      <th>50%</th>\n",
       "      <td>NaN</td>\n",
       "      <td>NaN</td>\n",
       "      <td>NaN</td>\n",
       "      <td>2020.000000</td>\n",
       "      <td>372.000000</td>\n",
       "      <td>91.000000</td>\n",
       "      <td>28.000000</td>\n",
       "      <td>245.000000</td>\n",
       "      <td>162.000000</td>\n",
       "      <td>206.000000</td>\n",
       "      <td>...</td>\n",
       "      <td>84.000000</td>\n",
       "      <td>6.000000</td>\n",
       "      <td>53.000000</td>\n",
       "      <td>17.000000</td>\n",
       "      <td>0.000000</td>\n",
       "      <td>1.000000</td>\n",
       "      <td>0.000000</td>\n",
       "      <td>3.000000</td>\n",
       "      <td>0.000000</td>\n",
       "      <td>0.000000</td>\n",
       "    </tr>\n",
       "    <tr>\n",
       "      <th>75%</th>\n",
       "      <td>NaN</td>\n",
       "      <td>NaN</td>\n",
       "      <td>NaN</td>\n",
       "      <td>2021.000000</td>\n",
       "      <td>800.000000</td>\n",
       "      <td>182.000000</td>\n",
       "      <td>62.000000</td>\n",
       "      <td>560.000000</td>\n",
       "      <td>331.000000</td>\n",
       "      <td>468.500000</td>\n",
       "      <td>...</td>\n",
       "      <td>306.000000</td>\n",
       "      <td>33.000000</td>\n",
       "      <td>221.000000</td>\n",
       "      <td>65.000000</td>\n",
       "      <td>2.000000</td>\n",
       "      <td>8.000000</td>\n",
       "      <td>2.000000</td>\n",
       "      <td>13.000000</td>\n",
       "      <td>0.000000</td>\n",
       "      <td>0.000000</td>\n",
       "    </tr>\n",
       "    <tr>\n",
       "      <th>max</th>\n",
       "      <td>NaN</td>\n",
       "      <td>NaN</td>\n",
       "      <td>NaN</td>\n",
       "      <td>2022.000000</td>\n",
       "      <td>74982.000000</td>\n",
       "      <td>25825.000000</td>\n",
       "      <td>7553.000000</td>\n",
       "      <td>43193.000000</td>\n",
       "      <td>36754.000000</td>\n",
       "      <td>38550.000000</td>\n",
       "      <td>...</td>\n",
       "      <td>29364.000000</td>\n",
       "      <td>21270.000000</td>\n",
       "      <td>21854.000000</td>\n",
       "      <td>20469.000000</td>\n",
       "      <td>975.000000</td>\n",
       "      <td>1855.000000</td>\n",
       "      <td>1278.000000</td>\n",
       "      <td>2601.000000</td>\n",
       "      <td>21.000000</td>\n",
       "      <td>125.000000</td>\n",
       "    </tr>\n",
       "  </tbody>\n",
       "</table>\n",
       "<p>8 rows × 38 columns</p>\n",
       "</div>"
      ],
      "text/plain": [
       "       CoC Number  CoC Name  Count Types         Year  \\\n",
       "count         0.0       0.0          0.0  2311.000000   \n",
       "mean          NaN       NaN          NaN  2019.501947   \n",
       "std           NaN       NaN          NaN     1.708869   \n",
       "min           NaN       NaN          NaN  2017.000000   \n",
       "25%           NaN       NaN          NaN  2018.000000   \n",
       "50%           NaN       NaN          NaN  2020.000000   \n",
       "75%           NaN       NaN          NaN  2021.000000   \n",
       "max           NaN       NaN          NaN  2022.000000   \n",
       "\n",
       "       Sheltered Total Homeless  Sheltered Total Homeless - Under 18  \\\n",
       "count               2311.000000                          2311.000000   \n",
       "mean                 910.771960                           244.853743   \n",
       "std                 3736.543472                          1214.650357   \n",
       "min                    1.000000                             0.000000   \n",
       "25%                  192.500000                            44.000000   \n",
       "50%                  372.000000                            91.000000   \n",
       "75%                  800.000000                           182.000000   \n",
       "max                74982.000000                         25825.000000   \n",
       "\n",
       "       Sheltered Total Homeless - Age 18 to 24  \\\n",
       "count                              2311.000000   \n",
       "mean                                 74.235396   \n",
       "std                                 355.573728   \n",
       "min                                   0.000000   \n",
       "25%                                  13.000000   \n",
       "50%                                  28.000000   \n",
       "75%                                  62.000000   \n",
       "max                                7553.000000   \n",
       "\n",
       "       Sheltered Total Homeless - Over 24  Sheltered Total Homeless - Female  \\\n",
       "count                         2311.000000                        2311.000000   \n",
       "mean                           591.682821                         401.865859   \n",
       "std                           2181.750970                        1773.010770   \n",
       "min                              1.000000                           0.000000   \n",
       "25%                            129.000000                          85.000000   \n",
       "50%                            245.000000                         162.000000   \n",
       "75%                            560.000000                         331.000000   \n",
       "max                          43193.000000                       36754.000000   \n",
       "\n",
       "       Sheltered Total Homeless - Male  ...  \\\n",
       "count                      2311.000000  ...   \n",
       "mean                        504.316313  ...   \n",
       "std                        1948.181359  ...   \n",
       "min                           0.000000  ...   \n",
       "25%                         103.000000  ...   \n",
       "50%                         206.000000  ...   \n",
       "75%                         468.500000  ...   \n",
       "max                       38550.000000  ...   \n",
       "\n",
       "       Unsheltered Homeless - Non-Hispanic/Non-Latin(o)(a)(x)  \\\n",
       "count                                        2275.000000        \n",
       "mean                                          370.373187        \n",
       "std                                          1366.502614        \n",
       "min                                             0.000000        \n",
       "25%                                            23.000000        \n",
       "50%                                            84.000000        \n",
       "75%                                           306.000000        \n",
       "max                                         29364.000000        \n",
       "\n",
       "       Unsheltered Homeless - Hispanic/Latin(o)(a)(x)  \\\n",
       "count                                     2276.000000   \n",
       "mean                                       113.228032   \n",
       "std                                        803.829135   \n",
       "min                                          0.000000   \n",
       "25%                                          1.000000   \n",
       "50%                                          6.000000   \n",
       "75%                                         33.000000   \n",
       "max                                      21270.000000   \n",
       "\n",
       "       Unsheltered Homeless - White  \\\n",
       "count                   2276.000000   \n",
       "mean                     276.792619   \n",
       "std                     1032.026070   \n",
       "min                        0.000000   \n",
       "25%                       15.000000   \n",
       "50%                       53.000000   \n",
       "75%                      221.000000   \n",
       "max                    21854.000000   \n",
       "\n",
       "       Unsheltered Homeless - Black, African American, or African  \\\n",
       "count                                        2276.000000            \n",
       "mean                                          132.042619            \n",
       "std                                           892.579640            \n",
       "min                                             0.000000            \n",
       "25%                                             3.000000            \n",
       "50%                                            17.000000            \n",
       "75%                                            65.000000            \n",
       "max                                         20469.000000            \n",
       "\n",
       "       Unsheltered Homeless - Asian or Asian American  \\\n",
       "count                                     2276.000000   \n",
       "mean                                         7.940246   \n",
       "std                                         48.524116   \n",
       "min                                          0.000000   \n",
       "25%                                          0.000000   \n",
       "50%                                          0.000000   \n",
       "75%                                          2.000000   \n",
       "max                                        975.000000   \n",
       "\n",
       "       Unsheltered Homeless - American Indian, Alaska Native, or Indigenous  \\\n",
       "count                                        2276.000000                      \n",
       "mean                                           21.739895                      \n",
       "std                                            93.067604                      \n",
       "min                                             0.000000                      \n",
       "25%                                             0.000000                      \n",
       "50%                                             1.000000                      \n",
       "75%                                             8.000000                      \n",
       "max                                          1855.000000                      \n",
       "\n",
       "       Unsheltered Homeless - Native Hawaiian or Other Pacific Islander  \\\n",
       "count                                        2276.000000                  \n",
       "mean                                           10.456063                  \n",
       "std                                            69.598796                  \n",
       "min                                             0.000000                  \n",
       "25%                                             0.000000                  \n",
       "50%                                             0.000000                  \n",
       "75%                                             2.000000                  \n",
       "max                                          1278.000000                  \n",
       "\n",
       "       Unsheltered Homeless - Multiple Races  \\\n",
       "count                            2277.000000   \n",
       "mean                               35.241985   \n",
       "std                               155.719978   \n",
       "min                                 0.000000   \n",
       "25%                                 0.000000   \n",
       "50%                                 3.000000   \n",
       "75%                                13.000000   \n",
       "max                              2601.000000   \n",
       "\n",
       "       Sheltered Total Homeless - Gender Questioning  \\\n",
       "count                                     386.000000   \n",
       "mean                                        0.341969   \n",
       "std                                         1.377802   \n",
       "min                                         0.000000   \n",
       "25%                                         0.000000   \n",
       "50%                                         0.000000   \n",
       "75%                                         0.000000   \n",
       "max                                        21.000000   \n",
       "\n",
       "       Unsheltered Homeless - Gender Questioning  \n",
       "count                                 386.000000  \n",
       "mean                                    1.235751  \n",
       "std                                     8.609199  \n",
       "min                                     0.000000  \n",
       "25%                                     0.000000  \n",
       "50%                                     0.000000  \n",
       "75%                                     0.000000  \n",
       "max                                   125.000000  \n",
       "\n",
       "[8 rows x 38 columns]"
      ]
     },
     "execution_count": 6,
     "metadata": {},
     "output_type": "execute_result"
    }
   ],
   "source": [
    "numeric_df.describe()"
   ]
  },
  {
   "cell_type": "code",
   "execution_count": 7,
   "metadata": {},
   "outputs": [
    {
     "data": {
      "text/plain": [
       "34"
      ]
     },
     "execution_count": 7,
     "metadata": {},
     "output_type": "execute_result"
    }
   ],
   "source": [
    "numeric_df['Unsheltered Homeless - Female'].isna().sum()"
   ]
  },
  {
   "cell_type": "code",
   "execution_count": 8,
   "metadata": {},
   "outputs": [],
   "source": [
    "# Drop rows with null values in female and male columns\n",
    "numeric_df.dropna(subset=['Unsheltered Homeless - Female'], inplace=True)\n",
    "numeric_df.dropna(subset=['Unsheltered Homeless - Male'], inplace=True)\n"
   ]
  },
  {
   "cell_type": "code",
   "execution_count": 9,
   "metadata": {},
   "outputs": [
    {
     "name": "stdout",
     "output_type": "stream",
     "text": [
      "r: 0.9831776076616021\n",
      "p: 0.0\n"
     ]
    }
   ],
   "source": [
    "# Pearson r test for gender\n",
    "from scipy import stats\n",
    "r, p = stats.pearsonr(numeric_df['Unsheltered Homeless - Female'], numeric_df['Unsheltered Homeless - Male'])\n",
    "print(f'r: {r}')\n",
    "print(f'p: {p}')\n"
   ]
  },
  {
   "cell_type": "markdown",
   "metadata": {},
   "source": [
    "The Pearson correlation coefficient r of 0.983 indicates a very strong positive linear relationship between the male and female homelessness. This suggests that as the number of unsheltered homeless females increases, the number of unsheltered homeless males also tends to increase in a very consistent manner.\n",
    "\n",
    "The p-value of 0.0 means that the correlation is statistically significant, indicating strong evidence against the null hypothesis of no correlation. In other words, there's a very high likelihood that this correlation is not due to random chance."
   ]
  },
  {
   "cell_type": "code",
   "execution_count": 10,
   "metadata": {},
   "outputs": [
    {
     "name": "stdout",
     "output_type": "stream",
     "text": [
      "Ratio of male homelessness to female homelessness: 2.34\n"
     ]
    }
   ],
   "source": [
    "# Comparing male to female homelessness\n",
    "male_homeless = numeric_df['Unsheltered Homeless - Male'].sum()\n",
    "female_homeless = numeric_df['Unsheltered Homeless - Female'].sum()\n",
    "ratio = male_homeless / female_homeless\n",
    "print(f'Ratio of male homelessness to female homelessness: {round(ratio,2)}')"
   ]
  },
  {
   "cell_type": "markdown",
   "metadata": {},
   "source": [
    "The strong correlation between male and female homelessness does not mean that there is the same rate of male and female homelessness. The ratio of male to female homelessness is 2.34, meaning that for every 100 homeless women, there are 234 homeless men.\n"
   ]
  },
  {
   "cell_type": "code",
   "execution_count": 11,
   "metadata": {},
   "outputs": [
    {
     "name": "stdout",
     "output_type": "stream",
     "text": [
      "Total Sheltered: 2089284, Total Unsheltered: 1101802\n",
      "Ratio of sheltered to unsheltered: 1.9\n"
     ]
    }
   ],
   "source": [
    "# Comparing sheltered to unsheltered homelessness\n",
    "total_sheltered = numeric_df['Sheltered Total Homeless'].sum()\n",
    "total_unsheltered = numeric_df['Unsheltered Homeless'].sum()\n",
    "print(f\"Total Sheltered: {total_sheltered}, Total Unsheltered: {total_unsheltered}\")\n",
    "print(f'Ratio of sheltered to unsheltered: {round(total_sheltered/total_unsheltered, 2)}')"
   ]
  },
  {
   "cell_type": "code",
   "execution_count": 12,
   "metadata": {},
   "outputs": [
    {
     "name": "stdout",
     "output_type": "stream",
     "text": [
      "F-statistic: 74.58541140655979\n",
      "P-value: 9.051699738832837e-33\n"
     ]
    }
   ],
   "source": [
    "# Age and Homelessness anova test\n",
    "from scipy import stats\n",
    "f_stat, p_value = stats.f_oneway(\n",
    "    numeric_df['Sheltered Total Homeless - Under 18'],\n",
    "    numeric_df['Sheltered Total Homeless - Age 18 to 24'],\n",
    "    numeric_df['Sheltered Total Homeless - Over 24']\n",
    ")\n",
    "\n",
    "print(\"F-statistic:\", f_stat)\n",
    "print(\"P-value:\", p_value)"
   ]
  },
  {
   "cell_type": "markdown",
   "metadata": {},
   "source": [
    "This test shows a statistically significant difference in the means of the three age groups of sheltered homeless individuals. The very small p-value indicates that the number of sheltered homeless individuals significantly differs across the groups of \"Under 18,\" \"Age 18 to 24,\" and \"Over 24.\""
   ]
  },
  {
   "cell_type": "code",
   "execution_count": 13,
   "metadata": {},
   "outputs": [
    {
     "name": "stdout",
     "output_type": "stream",
     "text": [
      "                                 Multiple Comparison of Means - Tukey HSD, FWER=0.05                                 \n",
      "=====================================================================================================================\n",
      "                 group1                                group2               meandiff p-adj    lower    upper   reject\n",
      "---------------------------------------------------------------------------------------------------------------------\n",
      "Sheltered Total Homeless - Age 18 to 24  Sheltered Total Homeless - Over 24 521.0316    0.0  419.1307 622.9325   True\n",
      "Sheltered Total Homeless - Age 18 to 24 Sheltered Total Homeless - Under 18 172.2227 0.0002   70.3217 274.1236   True\n",
      "     Sheltered Total Homeless - Over 24 Sheltered Total Homeless - Under 18 -348.809    0.0 -450.7099 -246.908   True\n",
      "---------------------------------------------------------------------------------------------------------------------\n"
     ]
    }
   ],
   "source": [
    "from statsmodels.stats.multicomp import pairwise_tukeyhsd\n",
    "\n",
    "# Tukey's HSD test\n",
    "tukey_result = pairwise_tukeyhsd(\n",
    "    endog=numeric_df[['Sheltered Total Homeless - Under 18', \n",
    "                      'Sheltered Total Homeless - Age 18 to 24', \n",
    "                      'Sheltered Total Homeless - Over 24']].melt()['value'], \n",
    "    groups=numeric_df[['Sheltered Total Homeless - Under 18', \n",
    "                       'Sheltered Total Homeless - Age 18 to 24', \n",
    "                       'Sheltered Total Homeless - Over 24']].melt()['variable'],\n",
    "    alpha=0.05\n",
    ")\n",
    "\n",
    "print(tukey_result)\n"
   ]
  },
  {
   "cell_type": "markdown",
   "metadata": {},
   "source": [
    "A p-value of less than 0.05 in Tukey's HSD (Honestly Significant Difference) test indicates that there is a statistically significant difference between the two groups being compared. Specifically, it suggests that the means of the two groups are different enough that this difference is unlikely to have occurred by random chance.\n",
    "Since the p-values are all less than 0.05, it means that for each pair of groups tested, there is a statistically significant difference in the number of sheltered homeless individuals between those groups."
   ]
  },
  {
   "cell_type": "code",
   "execution_count": 14,
   "metadata": {},
   "outputs": [
    {
     "name": "stdout",
     "output_type": "stream",
     "text": [
      "F-statistic: 1.3511326701610447, P-value: 0.2530993315372138\n"
     ]
    }
   ],
   "source": [
    "# Ethnicity and homelessness anova\n",
    "ethnicity_groups = numeric_df[['Sheltered Total Homeless - Hispanic/Latin(o)(a)(x)', 'Sheltered Total Homeless - Black, African American, or African', 'Sheltered Total Homeless - White', 'Sheltered Total Homeless - Asian or Asian American',\n",
    "       'Sheltered Total Homeless - American Indian, Alaska Native, or Indigenous',\n",
    "       'Sheltered Total Homeless - Native Hawaiian or Other Pacific Islander',\n",
    "       'Sheltered Total Homeless - Multiple Races', 'Unsheltered Homeless',]].values\n",
    "f_stat, p_value = stats.f_oneway(ethnicity_groups[0], ethnicity_groups[1], ethnicity_groups[2], ethnicity_groups[3], ethnicity_groups[4], ethnicity_groups[5], ethnicity_groups[6])\n",
    "print(f\"F-statistic: {f_stat}, P-value: {p_value}\")\n"
   ]
  },
  {
   "cell_type": "markdown",
   "metadata": {},
   "source": [
    "Since the p-value is greater than 0.05, we fail to reject the null hypothesis. This means that there is no statistically significant difference in the number of homeless individuals across different ethnicities. In other words, ethnicity does not appear to have a significant effect on homelessness in your dataset."
   ]
  },
  {
   "cell_type": "code",
   "execution_count": 16,
   "metadata": {},
   "outputs": [
    {
     "name": "stdout",
     "output_type": "stream",
     "text": [
      "r: 0.28256175310333964\n",
      "p: 4.613853341261202e-43\n"
     ]
    }
   ],
   "source": [
    "# Pearson r test for sheltered vs unsheltered\n",
    "from scipy import stats\n",
    "r, p = stats.pearsonr(numeric_df['Unsheltered Homeless'], numeric_df['Sheltered Total Homeless'])\n",
    "print(f'r: {r}')\n",
    "print(f'p: {p}')"
   ]
  },
  {
   "cell_type": "markdown",
   "metadata": {},
   "source": [
    "Since the p-value is far below 0.05, we reject the null hypothesis, indicating that there is a significant relationship between being sheltered or unsheltered. This suggests that the number of people who are sheltered versus unsheltered is not random and may depend on factors like resources, access to shelters, policies, or other external factors."
   ]
  }
 ],
 "metadata": {
  "kernelspec": {
   "display_name": "Python 3",
   "language": "python",
   "name": "python3"
  },
  "language_info": {
   "codemirror_mode": {
    "name": "ipython",
    "version": 3
   },
   "file_extension": ".py",
   "mimetype": "text/x-python",
   "name": "python",
   "nbconvert_exporter": "python",
   "pygments_lexer": "ipython3",
   "version": "3.12.1"
  }
 },
 "nbformat": 4,
 "nbformat_minor": 2
}
